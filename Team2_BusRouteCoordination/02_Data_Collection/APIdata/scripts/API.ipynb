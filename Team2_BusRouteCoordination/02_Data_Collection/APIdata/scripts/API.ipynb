{
  "cells": [
    {
      "cell_type": "code",
      "execution_count": null,
      "metadata": {
        "id": "l1WbovlQJRET"
      },
      "outputs": [],
      "source": [
        "import requests\n",
        "import time\n",
        "import pandas as pd\n",
        "from datetime import datetime\n",
        "from tabulate import tabulate\n",
        "import concurrent.futures\n",
        "import threading\n",
        "import signal\n",
        "import sys\n",
        "import matplotlib.pyplot as plt\n",
        "import matplotlib.font_manager as fm"
      ]
    },
    {
      "cell_type": "code",
      "execution_count": null,
      "metadata": {
        "id": "QiiOttJgKh4v"
      },
      "outputs": [],
      "source": [
        "# KMB API Configuration\n",
        "kmb_base_url = \"https://data.etabus.gov.hk/v1/transport/kmb\"\n",
        "kmb_route = \"272A\"\n",
        "\n",
        "# Citybus API Configuration\n",
        "citybus_base_url = \"https://rt.data.gov.hk/v2/transport/citybus\"\n",
        "citybus_company_id = \"CTB\"\n",
        "citybus_route = \"582\""
      ]
    },
    {
      "cell_type": "code",
      "execution_count": null,
      "metadata": {
        "id": "i8m2Qj3_L0jh"
      },
      "outputs": [],
      "source": [
        "def kmb_route_info(direction, service_type):\n",
        "  url = f\"{kmb_base_url}/route/{kmb_route}/{direction}/{service_type}\"\n",
        "  try:\n",
        "    response = requests.get(url, timeout=10)\n",
        "    response.raise_for_status()\n",
        "    return response.json().get('data', \"Unknown route\")\n",
        "  except Exception as e:\n",
        "    print(f\"Failed to get KMB route information: {e}\")\n",
        "    return None"
      ]
    },
    {
      "cell_type": "code",
      "execution_count": null,
      "metadata": {
        "id": "MqqWBYHkMRrb"
      },
      "outputs": [],
      "source": [
        "def kmb_stopid_info(stop_id):\n",
        "  url = f\"{kmb_base_url}/stop/{stop_id}\"\n",
        "  try:\n",
        "    response = requests.get(url, timeout=10)\n",
        "    response.raise_for_status()\n",
        "    data = response.json().get('data', {})\n",
        "    return [data.get('name_tc', 'Unknown stop'), data.get('name_en', 'Unknown stop'), data.get('lat', 'Unknown stop'), data.get('long', 'Unknown stop')]\n",
        "  except Exception as e:\n",
        "    print(f\"Failed to get KMB stop {stop_id} name: {e}\")\n",
        "    return None"
      ]
    },
    {
      "cell_type": "code",
      "execution_count": null,
      "metadata": {
        "id": "dZfd9D12MXMn"
      },
      "outputs": [],
      "source": [
        "def kmb_stop_info(direction, service_type):\n",
        "  url = f\"{kmb_base_url}/route-stop/{kmb_route}/{direction}/{service_type}\"\n",
        "  try:\n",
        "    response = requests.get(url, timeout=10)\n",
        "    response.raise_for_status()\n",
        "    data = response.json()\n",
        "    stops = data.get('data', [])\n",
        "    stops = [stop['stop'] for stop in stops]\n",
        "    stops_name = {key: kmb_stopid_info(key) for key in stops}\n",
        "    return stops, stops_name\n",
        "  except Exception as e:\n",
        "    print(f\"Failed to get KMB stop IDs: {e}\")\n",
        "    return None, None"
      ]
    },
    {
      "cell_type": "code",
      "execution_count": null,
      "metadata": {
        "id": "8PDYcriqM8xg"
      },
      "outputs": [],
      "source": [
        "def kmb_eta_info(stop_id, service_type):\n",
        "  url = f\"{kmb_base_url}/eta/{stop_id}/{kmb_route}/{service_type}\"\n",
        "  try:\n",
        "    response = requests.get(url, timeout=10)\n",
        "    response.raise_for_status()\n",
        "    data = response.json().get('data', [])\n",
        "    for eta in data:\n",
        "      eta_string = eta.get('eta')\n",
        "      time_string = eta.get('data_timestamp')\n",
        "      if eta_string:\n",
        "        eta_obj = datetime.fromisoformat(eta_string)\n",
        "        eta['eta'] = eta_obj.strftime('%Y-%m-%d %H:%M')\n",
        "        time_obj = datetime.fromisoformat(time_string)\n",
        "        eta['data_timestamp'] = time_obj.strftime('%Y-%m-%d %H:%M')\n",
        "    selected_keys = ['route', 'dir', 'service_type', 'seq', 'eta', 'eta_seq', 'data_timestamp']\n",
        "    return [{k: item.get(k) for k in selected_keys} for item in data]\n",
        "  except Exception as e:\n",
        "    print(f\"Failed to get KMB stop {stop_id} ETA information: {e}\")\n",
        "    return None"
      ]
    },
    {
      "cell_type": "code",
      "execution_count": null,
      "metadata": {
        "id": "tNuQirP_N13X"
      },
      "outputs": [],
      "source": [
        "def citybus_route_info():\n",
        "  url = f\"{citybus_base_url}/route/{citybus_company_id}/{citybus_route}\"\n",
        "  try:\n",
        "    response = requests.get(url, timeout=10)\n",
        "    response.raise_for_status()\n",
        "    return response.json().get('data', \"Unknown route\")\n",
        "  except Exception as e:\n",
        "    print(f\"Failed to get Citybus route information: {e}\")\n",
        "    return None"
      ]
    },
    {
      "cell_type": "code",
      "execution_count": null,
      "metadata": {
        "id": "Hm4EO_8xOT7A"
      },
      "outputs": [],
      "source": [
        "def citybus_bus_stop_info(stop_id):\n",
        "  url = f\"{citybus_base_url}/stop/{stop_id}\"\n",
        "  try:\n",
        "    response = requests.get(url, timeout=10)\n",
        "    response.raise_for_status()\n",
        "    data = response.json().get('data', {})\n",
        "    return [data.get('name_tc', 'Unknown stop'), data.get('name_en', 'Unknown stop'), data.get('lat', 'Unknown stop'), data.get('long', 'Unknown stop')]\n",
        "  except Exception as e:\n",
        "    print(f\"Failed to get Citybus stop {stop_id} name: {e}\")\n",
        "    return None"
      ]
    },
    {
      "cell_type": "code",
      "execution_count": null,
      "metadata": {
        "id": "WUkXvZCxOlJp"
      },
      "outputs": [],
      "source": [
        "def citybus_stop_info(direction):\n",
        "  url = f\"{citybus_base_url}/route-stop/{citybus_company_id}/{citybus_route}/{direction}\"\n",
        "  try:\n",
        "    response = requests.get(url, timeout=10)\n",
        "    response.raise_for_status()\n",
        "    data = response.json()\n",
        "    stops = sorted(data.get('data', []), key=lambda x: x.get('seq', 0))\n",
        "    stops = [stop['stop'] for stop in stops]\n",
        "    stops_name = {key: citybus_bus_stop_info(key) for key in stops}\n",
        "    return stops, stops_name\n",
        "  except Exception as e:\n",
        "    print(f\"Failed to get Citybus stop IDs: {e}\")\n",
        "    return None, None"
      ]
    },
    {
      "cell_type": "code",
      "execution_count": null,
      "metadata": {
        "id": "EWalE7aJO5Dp"
      },
      "outputs": [],
      "source": [
        "def citybus_eta_info(stop_id):\n",
        "  url = f\"{citybus_base_url}/eta/{citybus_company_id}/{stop_id}/{citybus_route}\"\n",
        "  try:\n",
        "    response = requests.get(url, timeout=10)\n",
        "    response.raise_for_status()\n",
        "    data = response.json().get('data', [])\n",
        "    for eta in data:\n",
        "      eta_string = eta.get('eta')\n",
        "      time_string = eta.get('data_timestamp')\n",
        "      if eta_string:\n",
        "        eta_obj = datetime.fromisoformat(eta_string)\n",
        "        eta['eta'] = eta_obj.strftime('%Y-%m-%d %H:%M')\n",
        "        time_obj = datetime.fromisoformat(time_string)\n",
        "        eta['data_timestamp'] = time_obj.strftime('%Y-%m-%d %H:%M')\n",
        "    selected_keys = ['route', 'dir', 'seq', 'stop', 'eta', 'eta_seq', 'data_timestamp']\n",
        "    return [{k: item.get(k) for k in selected_keys} for item in data]\n",
        "  except Exception as e:\n",
        "    print(f\"Failed to get Citybus stop {stop_id} ETA information: {e}\")\n",
        "    return None"
      ]
    },
    {
      "cell_type": "code",
      "execution_count": null,
      "metadata": {
        "id": "Fjfr9xh4WkoW"
      },
      "outputs": [],
      "source": [
        "def collect_eta_dataframe(df, stop_id, eta_func, stops_name_id, service_type=None, lock=None, source=''):\n",
        "  if stop_event.is_set():\n",
        "    return df\n",
        "\n",
        "  # print(f\"Getting ETA information for {source} stop {stop_id}...\")\n",
        "  eta_data = eta_func(stop_id, service_type) if service_type else eta_func(stop_id)\n",
        "  if eta_data and len(eta_data) > 0:\n",
        "    records_to_append = []\n",
        "    for eta_record in eta_data:\n",
        "      stop_name = stops_name_id.get(eta_record.get('stop', stop_id), ['Unknown stop'])[0]\n",
        "      new_eta = datetime.strptime(eta_record['eta'], '%Y-%m-%d %H:%M')\n",
        "      skip_record = False\n",
        "      match_condition = (\n",
        "        (df['route'] == eta_record['route']) &\n",
        "        (df['dir'] == eta_record['dir']) &\n",
        "        (df['seq'] == eta_record['seq']) &\n",
        "        (df['stop_id'] == eta_record.get('stop', stop_id))\n",
        "      )\n",
        "      matching_rows = df[match_condition]\n",
        "      if not matching_rows.empty:\n",
        "        for index, row in matching_rows.iterrows():\n",
        "          existing_eta = datetime.strptime(row['eta'], '%Y-%m-%d %H:%M')\n",
        "          time_diff = abs((new_eta - existing_eta).total_seconds() / 60)\n",
        "          if time_diff == 0:\n",
        "            skip_record = True\n",
        "            break\n",
        "          elif time_diff <= 3:\n",
        "            with lock:\n",
        "              df.loc[index, 'eta'] = eta_record['eta']\n",
        "            skip_record = True\n",
        "            break\n",
        "      if not skip_record:\n",
        "        record = {\n",
        "          'route': eta_record['route'],\n",
        "          'dir': eta_record['dir'],\n",
        "          'seq': eta_record['seq'],\n",
        "          'stop_id': eta_record.get('stop', stop_id),\n",
        "          'stop_name': stop_name,\n",
        "          'eta': eta_record['eta'],\n",
        "          'eta_seq': eta_record['eta_seq'],\n",
        "          'data_timestamp': eta_record['data_timestamp'],\n",
        "          'source': source\n",
        "        }\n",
        "        records_to_append.append(record)\n",
        "    if records_to_append:\n",
        "      with lock:\n",
        "        for record in records_to_append:\n",
        "          df.loc[len(df)] = record\n",
        "  else:\n",
        "    print(f\"Failed to get ETA information for {source} stop {stop_id}\")\n",
        "  return df"
      ]
    },
    {
      "cell_type": "code",
      "execution_count": null,
      "metadata": {
        "id": "MQhFMC42aony"
      },
      "outputs": [],
      "source": [
        "def kmb_fetch_loop():\n",
        "  while not stop_event.is_set():\n",
        "    with concurrent.futures.ThreadPoolExecutor(max_workers=len(kmb_stops_id_list)) as executor:\n",
        "      futures = [executor.submit(collect_eta_dataframe, kmb_eta_df, stop_id, kmb_eta_info, kmb_stops_name_id, kmb_service_type, kmb_lock, 'KMB') for stop_id in kmb_stops_id_list]\n",
        "      concurrent.futures.wait(futures)\n",
        "    time.sleep(interval)"
      ]
    },
    {
      "cell_type": "code",
      "execution_count": null,
      "metadata": {
        "id": "WfQxt-g7a1IV"
      },
      "outputs": [],
      "source": [
        "def citybus_fetch_loop():\n",
        "  while not stop_event.is_set():\n",
        "    with concurrent.futures.ThreadPoolExecutor(max_workers=len(citybus_stops_id_list)) as executor:\n",
        "      futures = [executor.submit(collect_eta_dataframe, citybus_eta_df, stop_id, citybus_eta_info, citybus_stops_name_id, None, citybus_lock, 'Citybus') for stop_id in citybus_stops_id_list]\n",
        "      concurrent.futures.wait(futures)\n",
        "    time.sleep(interval)"
      ]
    },
    {
      "cell_type": "code",
      "execution_count": null,
      "metadata": {
        "id": "2Z4O-Rq-YijI"
      },
      "outputs": [],
      "source": [
        "# Handle interrupt signal\n",
        "def signal_handler(sig, frame):\n",
        "  print(\"\\nShutting down program...\")\n",
        "  stop_event.set()  # Notify threads to stop"
      ]
    },
    {
      "cell_type": "code",
      "execution_count": null,
      "metadata": {
        "colab": {
          "base_uri": "https://localhost:8080/",
          "height": 1000
        },
        "id": "KNY0oseTPdzd",
        "outputId": "2d350195-af38-4e85-cb39-1e7f09d91023"
      },
      "outputs": [],
      "source": [
        "# Get stop data\n",
        "\n",
        "kmb_service_type_num = 4\n",
        "kmb_stops_name_id = {}\n",
        "for i in range(1, kmb_service_type_num + 1):\n",
        "  stops_in, stops_name_in = kmb_stop_info(\"inbound\", i)\n",
        "  stops_out, stops_name_out = kmb_stop_info(\"outbound\", i)\n",
        "  kmb_stops_name_id.update(stops_name_in or {})\n",
        "  kmb_stops_name_id.update(stops_name_out or {})\n",
        "\n",
        "display(pd.DataFrame(kmb_stops_name_id).T)\n",
        "print(f\"Number of stops: {len(kmb_stops_name_id)} \\n\")\n",
        "kmb_stops_id_list = list(kmb_stops_name_id.keys())\n",
        "\n",
        "citybus_stops_in, citybus_stops_name_in = citybus_stop_info(\"inbound\")\n",
        "citybus_stops_out, citybus_stops_name_out = citybus_stop_info(\"outbound\")\n",
        "citybus_stops_name_id = {**citybus_stops_name_in, **citybus_stops_name_out}\n",
        "\n",
        "display(pd.DataFrame(citybus_stops_name_id).T)\n",
        "print(f\"Number of stops: {len(citybus_stops_name_id)} \\n\")\n",
        "citybus_stops_id_list = list(citybus_stops_name_id.keys())"
      ]
    },
    {
      "cell_type": "code",
      "execution_count": null,
      "metadata": {
        "colab": {
          "base_uri": "https://localhost:8080/"
        },
        "id": "T7bLEBh3eVWw",
        "outputId": "0f27abe4-5422-4aaf-fe71-670bbbc0ddff"
      },
      "outputs": [],
      "source": [
        "# Main program\n",
        "\n",
        "stop_event = threading.Event()\n",
        "signal.signal(signal.SIGINT, signal_handler)\n",
        "\n",
        "# Initialize DataFrame and locks\n",
        "columns = ['route', 'dir', 'seq', 'stop_id', 'stop_name', 'eta', 'eta_seq', 'data_timestamp', 'source']\n",
        "kmb_eta_df = pd.DataFrame(columns=columns)\n",
        "citybus_eta_df = pd.DataFrame(columns=columns)\n",
        "kmb_lock = threading.Lock()\n",
        "citybus_lock = threading.Lock()\n",
        "\n",
        "# Manual parameters\n",
        "interval = 10  # Fetch interval (seconds)\n",
        "kmb_service_type = 1 # 272A has 4 route options\n",
        "run_duration = 20 #3 * 3600  # Timer parameter (in seconds), default 3 hours here\n",
        "\n",
        "global combined_df\n",
        "combined_df = pd.DataFrame(columns=columns)\n",
        "\n",
        "# Start threads\n",
        "kmb_thread = threading.Thread(target=kmb_fetch_loop, daemon=True)\n",
        "citybus_thread = threading.Thread(target=citybus_fetch_loop, daemon=True)\n",
        "kmb_thread.start()\n",
        "citybus_thread.start()\n",
        "\n",
        "# Start timer\n",
        "timer = threading.Timer(run_duration, stop_event.set)\n",
        "timer.start()\n",
        "\n",
        "try:\n",
        "  while not stop_event.is_set(): # Check if stop_event is set\n",
        "    time.sleep(interval)  # Synchronize with inner layer\n",
        "    with kmb_lock:\n",
        "      kmb_copy = kmb_eta_df.copy()\n",
        "    with citybus_lock:\n",
        "      citybus_copy = citybus_eta_df.copy()\n",
        "    combined_df = pd.concat([kmb_copy, citybus_copy], axis=0, ignore_index=True)\n",
        "    print(\"\\nCombined DataFrame content:\")\n",
        "    print(tabulate(combined_df, headers='keys', tablefmt='psql', showindex=False))\n",
        "    print(f\"\\n Data count: {len(combined_df)}\")\n",
        "    print(f\"\\nNext merge waiting {interval} seconds...\")\n",
        "\n",
        "except KeyboardInterrupt:\n",
        "  print(\"\\nInterrupted\")\n",
        "  stop_event.set()  # Signal threads to stop\n",
        "\n",
        "# Cancel timer (if user manually interrupts)\n",
        "timer.cancel()\n",
        "\n",
        "# Wait for threads to end (if they are not daemon threads)\n",
        "# If they are daemon threads, they will automatically terminate when main thread exits, but waiting ensures they complete current tasks\n",
        "kmb_thread.join(timeout= 5) # Give threads some extra time\n",
        "citybus_thread.join(timeout= 5)\n",
        "\n",
        "print(\"Program has been closed.\")"
      ]
    },
    {
      "cell_type": "code",
      "execution_count": null,
      "metadata": {
        "colab": {
          "base_uri": "https://localhost:8080/"
        },
        "id": "e2pxRzYAdJSE",
        "outputId": "36464d4f-0d5c-4564-cd15-3b9779f979f2"
      },
      "outputs": [],
      "source": [
        "# Save CSV file\n",
        "csv_path = 'current_eta_data.csv'\n",
        "combined_df.to_csv(csv_path, index=False, encoding='utf-8-sig')\n",
        "print(f\"Data has been saved to {csv_path}\")"
      ]
    },
    {
      "cell_type": "code",
      "execution_count": null,
      "metadata": {
        "id": "RKZe7KXCgPHA"
      },
      "outputs": [],
      "source": [
        "combined_df= pd.read_csv('current_eta_data.csv')"
      ]
    },
    {
      "cell_type": "code",
      "execution_count": null,
      "metadata": {
        "id": "39mPZOqnPxSO"
      },
      "outputs": [],
      "source": [
        "# KMB stop_id: Citybus stop_id\n",
        "stop_id_mapping = {\n",
        "    '9F542D4B6CF41651':'003841',  # University Station (ST905, inbound) - University Station (inbound)\n",
        "    '739A5DDE0CF1970C':'003743',  # Ma Liu Shui Public Pier (PA100)\n",
        "    '9E95343C77BB85E2':'003744',  # Water Sports Centre (PA104)\n",
        "    'F808AF482CCA028E':'003745',  # Hong Kong Institute of Biotechnology (PA105)\n",
        "    '3313B37BF82AFF18':'003748',  # Cloud Nine (PA125)\n",
        "    'F8F0E91589F099CD':'003838',  # Pak Shek Kok (PA141)\n",
        "    # '730AEBA1D2D8B20E':'003839',  # Hong Kong Science Park (PA112)\n",
        "    # 'A9459D38A4A41F36':'003840',  # Hong Kong Science Park Phase 3 (PA115)\n",
        "    '3F24CFF9046300D9':'003736',  # Cloud Nine (PA206, outbound) - Cloud Nine, Innovation Road (outbound)\n",
        "    'B34F59A0270AEDA4':'003737',  # Innovation Road (PA212) - The Cove II, Innovation Road (outbound)\n",
        "    '39E7051B17D302DA':'003738',  # Science Park Road (PA214)\n",
        "    '1C6EAAF5F48167F9':'003739',  # Science Park (Phase 1) (PA219)\n",
        "    'DA9490C24D6E6026':'003740',  # Hong Kong Institute of Biotechnology (PA230)\n",
        "    '64101F297D3C1C55':'003741',  # Water Sports Centre (PA234)\n",
        "    '5B39CC28607910E4':'003742',  # Ma Liu Shui Public Pier (PA237)\n",
        "    'EC5018363D5C45EB':'003841O'  # University Station (ST900)\n",
        "}\n",
        "\n",
        "# Transform KMB direction\n",
        "inbound_kmb_ids = [\n",
        "    '9F542D4B6CF41651',\n",
        "    '739A5DDE0CF1970C',\n",
        "    '9E95343C77BB85E2',\n",
        "    'F808AF482CCA028E',\n",
        "    'BE940A2F1B154D6E',\n",
        "    'E8F5E085BAEFE100',\n",
        "    '3313B37BF82AFF18',\n",
        "    '730AEBA1D2D8B20E',\n",
        "    'A9459D38A4A41F36'\n",
        "]"
      ]
    },
    {
      "cell_type": "code",
      "execution_count": null,
      "metadata": {
        "colab": {
          "base_uri": "https://localhost:8080/"
        },
        "id": "Iycmo5BxJaPw",
        "outputId": "b1941d82-0e6a-4c90-b1b7-97f905207515"
      },
      "outputs": [],
      "source": [
        "combined_df = combined_df.sort_values(by=['route','seq','stop_id','eta'])\n",
        "\n",
        "print(len(combined_df))"
      ]
    },
    {
      "cell_type": "code",
      "execution_count": null,
      "metadata": {
        "colab": {
          "base_uri": "https://localhost:8080/",
          "height": 481
        },
        "id": "7e0d1845",
        "outputId": "2fb0fb5e-d37c-4016-a928-d66223377448"
      },
      "outputs": [],
      "source": [
        "# Update KMB and Citybus arrival data separately\n",
        "update_df = pd.DataFrame(columns=combined_df.columns)\n",
        "combined_df['eta'] = pd.to_datetime(combined_df['eta'])\n",
        "for index, row in combined_df.iterrows():\n",
        "    matches = update_df[\n",
        "        (update_df['route'] == row['route']) &\n",
        "        (update_df['dir'] == row['dir']) &\n",
        "        (update_df['seq'] == row['seq']) &\n",
        "        (update_df['stop_id'] == row['stop_id'])\n",
        "    ]\n",
        "\n",
        "    updated_existing = False\n",
        "    if not matches.empty:\n",
        "        if row['route'] == '272A':\n",
        "          # If data differs by 4min, update the data\n",
        "            time_threshold = 4\n",
        "        elif row['route'] == '582':\n",
        "            time_threshold = 13\n",
        "\n",
        "        for match_index, match_row in matches.iterrows():\n",
        "            time_diff = abs((row['eta'] - match_row['eta']).total_seconds() / 60)\n",
        "\n",
        "            # Time difference within threshold range\n",
        "            if time_diff <= time_threshold:\n",
        "                update_df.loc[match_index, 'eta'] = row['eta']\n",
        "                updated_existing = True\n",
        "                break\n",
        "\n",
        "    # Outside time difference range, add to table\n",
        "    if not updated_existing:\n",
        "        update_df = pd.concat([update_df, pd.DataFrame([row])], ignore_index=True)\n",
        "\n",
        "update_df['eta'] = update_df['eta'].apply(lambda x: datetime.strftime(x, '%Y-%m-%d %H:%M'))\n",
        "combined_df = update_df\n",
        "display(combined_df)"
      ]
    },
    {
      "cell_type": "code",
      "execution_count": null,
      "metadata": {
        "colab": {
          "base_uri": "https://localhost:8080/"
        },
        "id": "jxdgd-8Ge5_D",
        "outputId": "3209e0c3-2863-4c29-c221-d3e5436a3154"
      },
      "outputs": [],
      "source": [
        "# Change KMB direction\n",
        "combined_df_copy = combined_df.copy()\n",
        "combined_df_copy.loc[(combined_df_copy['source']=='KMB') & (combined_df_copy['stop_id'].isin(inbound_kmb_ids)),'dir'] = 'I'\n",
        "\n",
        "# Filter peak hour data\n",
        "def is_peak_hour(eta):\n",
        "  eta = datetime.strptime(eta, '%Y-%m-%d %H:%M')\n",
        "  morning_peak = (eta.hour == 8) or (eta.hour == 9 and eta.minute <= 59)\n",
        "  evening_peak = (eta.hour == 17) or (eta.hour == 18) or (eta.hour == 19 and eta.minute <= 59)\n",
        "  return morning_peak or evening_peak\n",
        "combined_df_copy = combined_df_copy[combined_df_copy['eta'].apply(is_peak_hour)]\n",
        "\n",
        "# Change Citybus outbound University Station stop_id\n",
        "combined_df_copy.loc[(combined_df_copy['source']=='Citybus') & (combined_df_copy['dir']=='O') & (combined_df_copy['stop_id']=='003841'),'stop_id'] = '003841O'\n",
        "\n",
        "# Change Citybus inbound Pak Shek Kok Station stop_id\n",
        "combined_df_copy.loc[(combined_df_copy['source']=='Citybus') & (combined_df_copy['dir']=='I') & (combined_df_copy['stop_id']=='003838'),'stop_id'] = '003838I'\n",
        "\n",
        "# Change ETA display format in combined_df_copy\n",
        "combined_df_copy['eta'] = combined_df_copy['eta'].apply(lambda x: datetime.strptime(x, '%Y-%m-%d %H:%M'))\n",
        "combined_df_copy['eta'] = combined_df_copy['eta'].apply(lambda x: datetime.strftime(x, '%H:%M'))\n",
        "\n",
        "# Unify stop_id\n",
        "def map_stop_id(row):\n",
        "  if row['source']=='KMB':\n",
        "    return stop_id_mapping.get(row['stop_id'],row['stop_id'])\n",
        "  return row['stop_id']\n",
        "combined_df_copy['mapped_stop_id'] = combined_df_copy.apply(map_stop_id, axis=1)\n",
        "\n",
        "# Simultaneous arrivals\n",
        "simul_arrival = []\n",
        "for map_id in combined_df_copy['mapped_stop_id'].unique():\n",
        "\n",
        "  group = combined_df_copy[combined_df_copy['mapped_stop_id'] == map_id]\n",
        "  kmb_group = group[group['source']=='KMB']\n",
        "  citybus_group = group[group['source']=='Citybus']\n",
        "\n",
        "  for kmb_index, kmb_row in kmb_group.iterrows():\n",
        "    kmb_eta = datetime.strptime(kmb_row['eta'], '%H:%M')\n",
        "    for citybus_index, citybus_row in citybus_group.iterrows():\n",
        "      if kmb_row['dir'] == citybus_row['dir']:\n",
        "        citybus_eta = datetime.strptime(citybus_row['eta'], '%H:%M')\n",
        "        time_diff = abs((kmb_eta - citybus_eta).total_seconds() / 60)\n",
        "        if time_diff <= 2:\n",
        "          simul_arrival.append({\n",
        "              'mapped_stop_id': map_id,\n",
        "              'kmb_route': kmb_row['route'],\n",
        "              'citybus_route': citybus_row['route'],\n",
        "              'kmb_dir': kmb_row['dir'],\n",
        "              'citybus_dir': citybus_row['dir'],\n",
        "              'kmb_stop_id': kmb_row['stop_id'],\n",
        "              'citybus_stop_id': citybus_row['stop_id'],\n",
        "              'kmb_stop_name': kmb_row['stop_name'],\n",
        "              'citybus_stop_name': citybus_row['stop_name'],\n",
        "              'kmb_eta': kmb_row['eta'],\n",
        "              'citybus_eta': citybus_row['eta'],\n",
        "              'time_different(min)': time_diff\n",
        "          })\n",
        "\n",
        "simul_arrival_df = pd.DataFrame(simul_arrival)\n",
        "simul_arrival_df = simul_arrival_df.sort_values(by=['citybus_dir','citybus_eta'])\n",
        "print(f\"\\nKMB {kmb_route} and {citybus_route} simultaneous arrival table\")\n",
        "print(f\"Data count: {len(simul_arrival_df)}\")\n",
        "print(tabulate(simul_arrival_df, headers='keys', tablefmt='psql', showindex=False))\n",
        "\n"
      ]
    },
    {
      "cell_type": "code",
      "execution_count": null,
      "metadata": {
        "colab": {
          "base_uri": "https://localhost:8080/",
          "height": 538
        },
        "id": "66f4756c",
        "outputId": "9d4fbf24-98f8-4cd0-90fb-becb58993a1f"
      },
      "outputs": [],
      "source": [
        "# Filter records for KMB and Citybus shared stops\n",
        "overlap_stops = list(set(stop_id_mapping.values()))\n",
        "overlap_data = combined_df_copy[combined_df_copy['mapped_stop_id'].isin(overlap_stops)]\n",
        "\n",
        "# Group by mapped_stop_id and source and count\n",
        "record_counts = overlap_data.groupby(['mapped_stop_id', 'source']).size().unstack(fill_value=0)\n",
        "\n",
        "# To display stop names, merge mapped_stop_id with stop names\n",
        "# First create a mapping from mapped_stop_id to stop_name\n",
        "stop_name_map = overlap_data.drop_duplicates(subset=['mapped_stop_id']).set_index('mapped_stop_id')['stop_name'].to_dict()\n",
        "\n",
        "record_counts['stop_name'] = record_counts.index.map(stop_name_map)\n",
        "\n",
        "# Reorder stops according to stop_id_mapping\n",
        "exist_ids = record_counts.index.tolist()\n",
        "\n",
        "new_index = [id for id in list(stop_id_mapping.values()) if id in exist_ids]\n",
        "record_counts = record_counts.reindex(new_index)\n",
        "record_counts = record_counts[['stop_name', 'KMB', 'Citybus']]\n",
        "\n",
        "print(\"Shared stops KMB and Citybus record count:\")\n",
        "display(record_counts)"
      ]
    },
    {
      "cell_type": "code",
      "execution_count": null,
      "metadata": {
        "colab": {
          "base_uri": "https://localhost:8080/",
          "height": 243
        },
        "id": "kumgWM1wiX0s",
        "outputId": "1e0107c6-bb11-4559-af7d-f1f7bc248588"
      },
      "outputs": [],
      "source": [
        "# Citybus total data at overlap stops\n",
        "citybus_overlap_data = combined_df_copy[(combined_df_copy['source'] == 'Citybus') & (combined_df_copy['mapped_stop_id'].isin(overlap_stops))]\n",
        "print(f\"Data count: {len(citybus_overlap_data)} \\n \")\n",
        "display(citybus_overlap_data.head())"
      ]
    },
    {
      "cell_type": "code",
      "execution_count": null,
      "metadata": {
        "colab": {
          "base_uri": "https://localhost:8080/",
          "height": 331
        },
        "id": "23bb838f",
        "outputId": "d52d7795-fb0e-4584-f615-d0824263b629"
      },
      "outputs": [],
      "source": [
        "# Citybus grouping, keep only stop_id, stop_name, eta(list)\n",
        "citybus_group = citybus_overlap_data.groupby('mapped_stop_id').agg(\n",
        "    stop_name=('stop_name', 'first'),\n",
        "    etas=('eta', list))\n",
        "exist_ids = citybus_group.index.tolist()\n",
        "new_index = [id for id in list(stop_id_mapping.values()) if id in exist_ids]\n",
        "\n",
        "citybus_group = citybus_group.reindex(new_index)\n",
        "citybus_group = citybus_group.reset_index()\n",
        "citybus_group_inbound = citybus_group.iloc[:5]\n",
        "citybus_group_outbound = citybus_group.iloc[5:].reset_index(drop=True)\n",
        "display(citybus_group_outbound)"
      ]
    },
    {
      "cell_type": "code",
      "execution_count": null,
      "metadata": {
        "id": "38bbbd71"
      },
      "outputs": [],
      "source": [
        "def citybus_frequency(citybus_group):\n",
        "  for index, row in citybus_group.iterrows():\n",
        "      citybus_group.at[index, 'etas'] = [datetime.strptime(eta, '%H:%M') for eta in row['etas']]\n",
        "\n",
        "  travel_times = []\n",
        "\n",
        "  # First stop list\n",
        "  first_stop_etas = citybus_group.loc[0, 'etas']\n",
        "\n",
        "  for departure_time in first_stop_etas:\n",
        "      current_arrival_time = departure_time\n",
        "      trip_travel_times = [current_arrival_time]\n",
        "\n",
        "      # Traverse other stops\n",
        "      for i in range(1, len(citybus_group)):\n",
        "          next_stop_etas = citybus_group.loc[i, 'etas']\n",
        "          min_time_diff = float('inf')\n",
        "          next_arrival_time = None\n",
        "\n",
        "          # Find minimum arrival time\n",
        "          for arrival_time in next_stop_etas:\n",
        "              time_diff = (arrival_time - current_arrival_time).total_seconds() / 60\n",
        "\n",
        "              if time_diff >= 0 and time_diff < min_time_diff:\n",
        "                  min_time_diff = time_diff\n",
        "                  next_arrival_time = arrival_time\n",
        "\n",
        "          if next_arrival_time:\n",
        "              trip_travel_times.append(next_arrival_time)\n",
        "              current_arrival_time = next_arrival_time\n",
        "          else:\n",
        "              break\n",
        "\n",
        "      if trip_travel_times:\n",
        "          travel_times.append(trip_travel_times)\n",
        "\n",
        "\n",
        "  # Convert format\n",
        "  formatted_travel_times = []\n",
        "\n",
        "  for trip_times in travel_times:\n",
        "    formatted_trip = [time.strftime('%H:%M') for time in trip_times]\n",
        "    formatted_travel_times.append(formatted_trip)\n",
        "\n",
        "  citybus_group = citybus_group.drop('etas', axis=1)\n",
        "  for i, trip_etas in enumerate(formatted_travel_times):\n",
        "    # Create a pandas Series from the list, padding with NaN if necessary\n",
        "    # The length of the Series should match the number of rows in citybus_group\n",
        "    new_column_data = pd.Series(trip_etas).reindex(citybus_group.index)\n",
        "    citybus_group[f'Trip_{i+1}'] = new_column_data\n",
        "\n",
        "  return citybus_group\n",
        "\n",
        "citybus_frequency_inbound = citybus_frequency(citybus_group_inbound)\n",
        "citybus_frequency_outbound = citybus_frequency(citybus_group_outbound)"
      ]
    },
    {
      "cell_type": "code",
      "execution_count": null,
      "metadata": {
        "colab": {
          "base_uri": "https://localhost:8080/"
        },
        "id": "b641d9b1",
        "outputId": "e4db2fdf-6b45-4f39-a940-bc730350a7e1"
      },
      "outputs": [],
      "source": [
        "print(tabulate(citybus_frequency_outbound, headers='keys', tablefmt='psql', showindex=False))"
      ]
    },
    {
      "cell_type": "code",
      "execution_count": null,
      "metadata": {
        "colab": {
          "base_uri": "https://localhost:8080/",
          "height": 243
        },
        "id": "4c5dbae5",
        "outputId": "3faf647c-90ab-41a7-8b16-495d238d0ab1"
      },
      "outputs": [],
      "source": [
        "def highlight_simultaneous_eta(row):\n",
        "  styles = [''] * len(row)\n",
        "  mapped_stop_id = row['mapped_stop_id']\n",
        "  citybus_stop_name = row['stop_name']\n",
        "\n",
        "  # Filter simul_arrival_df for the current mapped_stop_id and Citybus stop name\n",
        "  simul_etas_for_stop = simul_arrival_df[simul_arrival_df['mapped_stop_id'] == mapped_stop_id]\n",
        "\n",
        "  for col_name, eta_value in row.items():\n",
        "    if col_name.startswith('Trip_') and pd.notna(eta_value):\n",
        "      if any(eta_value==citybus_eta for citybus_eta in simul_etas_for_stop['citybus_eta']):\n",
        "        styles[row.index.get_loc(col_name)] = 'background-color: yellow'\n",
        "\n",
        "  return styles\n",
        "\n",
        "styled_citybus_frequency_inbound = citybus_frequency_inbound.style.apply(highlight_simultaneous_eta, axis=1)\n",
        "print(f\"Citybus inbound direction\\n\")\n",
        "display(styled_citybus_frequency_inbound)"
      ]
    },
    {
      "cell_type": "code",
      "execution_count": null,
      "metadata": {
        "colab": {
          "base_uri": "https://localhost:8080/",
          "height": 369
        },
        "id": "bW62Et-4g3QF",
        "outputId": "59bb8b22-a96f-4d2b-e2bc-eb31f0b6e2e4"
      },
      "outputs": [],
      "source": [
        "styled_citybus_frequency_outbound = citybus_frequency_outbound.style.apply(highlight_simultaneous_eta, axis=1)\n",
        "print(f\"Citybus outbound direction\\n\")\n",
        "display(styled_citybus_frequency_outbound)"
      ]
    }
  ],
  "metadata": {
    "colab": {
      "provenance": []
    },
    "kernelspec": {
      "display_name": "base",
      "language": "python",
      "name": "python3"
    },
    "language_info": {
      "codemirror_mode": {
        "name": "ipython",
        "version": 3
      },
      "file_extension": ".py",
      "mimetype": "text/x-python",
      "name": "python",
      "nbconvert_exporter": "python",
      "pygments_lexer": "ipython3",
      "version": "3.12.4"
    }
  },
  "nbformat": 4,
  "nbformat_minor": 0
}
